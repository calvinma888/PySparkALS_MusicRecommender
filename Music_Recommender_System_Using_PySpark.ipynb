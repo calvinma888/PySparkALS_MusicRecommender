{
 "cells": [
  {
   "cell_type": "markdown",
   "metadata": {
    "id": "uixRc0XtrHuj"
   },
   "source": [
    "# **MUSIC RECOMMENDER SYSTEM USING PYSPARK** \n",
    "\n",
    "### Yu chien (Calvin) Ma"
   ]
  },
  {
   "cell_type": "markdown",
   "metadata": {
    "id": "hMZ64UxxrMvL"
   },
   "source": [
    "Installing pyspark and other dependencies"
   ]
  },
  {
   "cell_type": "code",
   "execution_count": 1,
   "metadata": {
    "colab": {
     "base_uri": "https://localhost:8080/"
    },
    "id": "NQAtZzdLPTif",
    "outputId": "206aaafd-4a21-44a1-e42f-4556b4384877"
   },
   "outputs": [],
   "source": [
    "# from google.colab import drive\n",
    "# drive.mount('/content/drive')"
   ]
  },
  {
   "cell_type": "code",
   "execution_count": 2,
   "metadata": {
    "colab": {
     "base_uri": "https://localhost:8080/"
    },
    "id": "Dal3Np2Imn8u",
    "outputId": "bf021776-9d21-4eab-d9ed-54d9432009ff"
   },
   "outputs": [],
   "source": [
    "# !conda install pyspark\n",
    "# !conda install openjdk\n",
    "# !conda install -c conda-forge findspark"
   ]
  },
  {
   "cell_type": "markdown",
   "metadata": {
    "id": "eK9D-CNgru_s"
   },
   "source": [
    "Importing the modules"
   ]
  },
  {
   "cell_type": "code",
   "execution_count": 1,
   "metadata": {},
   "outputs": [
    {
     "data": {
      "text/plain": [
       "'C:\\\\Users\\\\calvi\\\\anaconda3\\\\lib\\\\site-packages\\\\pyspark'"
      ]
     },
     "execution_count": 1,
     "metadata": {},
     "output_type": "execute_result"
    }
   ],
   "source": [
    "import findspark\n",
    "findspark.init()\n",
    "findspark.find()"
   ]
  },
  {
   "cell_type": "code",
   "execution_count": 2,
   "metadata": {
    "id": "Z_cmzia9nA1W"
   },
   "outputs": [],
   "source": [
    "from pyspark.sql import SparkSession\n",
    "from pyspark.sql.functions import count, desc , col, max\n",
    "from pyspark.ml.feature import  StringIndexer\n",
    "from pyspark.ml import Pipeline\n",
    "from pyspark.ml.recommendation import ALS\n",
    "from pyspark.ml.tuning import TrainValidationSplit, ParamGridBuilder"
   ]
  },
  {
   "cell_type": "markdown",
   "metadata": {
    "id": "pjM5P6b0rVpH"
   },
   "source": [
    "Creating the spark session\n"
   ]
  },
  {
   "cell_type": "code",
   "execution_count": 3,
   "metadata": {
    "id": "gvSzI0zMn4Hk"
   },
   "outputs": [],
   "source": [
    "# spark = SparkSession.builder.appName('rec').getOrCreate()\n",
    "\n",
    "spark = SparkSession.builder \\\n",
    ".appName('app_name') \\\n",
    ".master('local[*]') \\\n",
    ".config('spark.sql.execution.arrow.pyspark.enabled', True) \\\n",
    ".config('spark.sql.session.timeZone', 'UTC') \\\n",
    ".config('spark.driver.memory','16G') \\\n",
    ".config('spark.ui.showConsoleProgress', True) \\\n",
    ".config('spark.sql.repl.eagerEval.enabled', True) \\\n",
    ".getOrCreate()"
   ]
  },
  {
   "cell_type": "markdown",
   "metadata": {
    "id": "KnyYdMVmnkp5"
   },
   "source": [
    "# Loading the dataset"
   ]
  },
  {
   "cell_type": "code",
   "execution_count": 4,
   "metadata": {
    "id": "PywJeVgDngVd"
   },
   "outputs": [],
   "source": [
    "filepath = r\"C:\\Users\\calvi\\Documents\\Portfolio Projects\\Music_Recommender_System_Dataset\\listenings.csv\"\n",
    "df_listenings = spark.read.format('csv').option('header', True).option('InferSchema', True).load(filepath)\n",
    "# When True, Spark will automatically infer the schema of each column\n"
   ]
  },
  {
   "cell_type": "code",
   "execution_count": 5,
   "metadata": {
    "colab": {
     "base_uri": "https://localhost:8080/"
    },
    "id": "5_CMh9uoUfR_",
    "outputId": "98851241-c74f-47fe-ad75-46e3e7d3402a"
   },
   "outputs": [
    {
     "name": "stdout",
     "output_type": "stream",
     "text": [
      "+-----------+-------------+--------------------+---------------+--------------------+\n",
      "|    user_id|         date|               track|         artist|               album|\n",
      "+-----------+-------------+--------------------+---------------+--------------------+\n",
      "|000Silenced|1299680100000|           Price Tag|       Jessie J|         Who You Are|\n",
      "|000Silenced|1299679920000|Price Tag (Acoust...|       Jessie J|           Price Tag|\n",
      "|000Silenced|1299679440000|Be Mine! (Ballad ...|          Robyn|            Be Mine!|\n",
      "|000Silenced|1299679200000|            Acapella|          Kelis|            Acapella|\n",
      "|000Silenced|1299675660000|   I'm Not Invisible|      The Tease|   I'm Not Invisible|\n",
      "|000Silenced|1297511400000|Bounce (Feat NORE...|       MSTRKRFT|         Fist of God|\n",
      "|000Silenced|1294498440000|Don't Stop The Mu...|        Rihanna|Addicted 2 Bassli...|\n",
      "|000Silenced|1292438340000|               ObZen|      Meshuggah|               ObZen|\n",
      "|000Silenced|1292437740000|   Yama's Messengers|         Gojira|The Way of All Flesh|\n",
      "|000Silenced|1292436360000|On the Brink of E...|   Napalm Death|Time Waits For No...|\n",
      "|000Silenced|1292436360000|On the Brink of E...|   Napalm Death|Time Waits For No...|\n",
      "|000Silenced|1292435940000|        In Deference|   Napalm Death|      Smear Campaign|\n",
      "|000Silenced|1292434920000|      Post(?)organic|    Decapitated|Organic Hallucinosis|\n",
      "|000Silenced|1292434560000|        Mind Feeders|   Dom & Roland| No Strings Attached|\n",
      "|000Silenced|1292434320000|Necrosadistic War...|Cannibal Corpse|                Kill|\n",
      "|000Silenced|1292365560000|     Dance All Night|   Dom & Roland|          Chronology|\n",
      "|000Silenced|1292365260000|          Late Night|   Dom & Roland|          Chronology|\n",
      "|000Silenced|1292365020000|          Freak Seen|   Dom & Roland|          Chronology|\n",
      "|000Silenced|1292364720000|Paradrenasite (Hi...|   Dom & Roland|          Chronology|\n",
      "|000Silenced|1292364300000|               Rhino|   Dom & Roland|          Chronology|\n",
      "+-----------+-------------+--------------------+---------------+--------------------+\n",
      "only showing top 20 rows\n",
      "\n"
     ]
    }
   ],
   "source": [
    "df_listenings.show()"
   ]
  },
  {
   "cell_type": "markdown",
   "metadata": {
    "id": "YUHBP0yjoJvc"
   },
   "source": [
    "\n",
    "# Data cleaning "
   ]
  },
  {
   "cell_type": "code",
   "execution_count": 6,
   "metadata": {
    "colab": {
     "base_uri": "https://localhost:8080/"
    },
    "id": "N8luDo3HndTb",
    "outputId": "b7a59af6-ca5b-4eb4-f17f-deb952995817"
   },
   "outputs": [
    {
     "name": "stdout",
     "output_type": "stream",
     "text": [
      "+-----------+--------------------+---------------+--------------------+\n",
      "|    user_id|               track|         artist|               album|\n",
      "+-----------+--------------------+---------------+--------------------+\n",
      "|000Silenced|           Price Tag|       Jessie J|         Who You Are|\n",
      "|000Silenced|Price Tag (Acoust...|       Jessie J|           Price Tag|\n",
      "|000Silenced|Be Mine! (Ballad ...|          Robyn|            Be Mine!|\n",
      "|000Silenced|            Acapella|          Kelis|            Acapella|\n",
      "|000Silenced|   I'm Not Invisible|      The Tease|   I'm Not Invisible|\n",
      "|000Silenced|Bounce (Feat NORE...|       MSTRKRFT|         Fist of God|\n",
      "|000Silenced|Don't Stop The Mu...|        Rihanna|Addicted 2 Bassli...|\n",
      "|000Silenced|               ObZen|      Meshuggah|               ObZen|\n",
      "|000Silenced|   Yama's Messengers|         Gojira|The Way of All Flesh|\n",
      "|000Silenced|On the Brink of E...|   Napalm Death|Time Waits For No...|\n",
      "|000Silenced|On the Brink of E...|   Napalm Death|Time Waits For No...|\n",
      "|000Silenced|        In Deference|   Napalm Death|      Smear Campaign|\n",
      "|000Silenced|      Post(?)organic|    Decapitated|Organic Hallucinosis|\n",
      "|000Silenced|        Mind Feeders|   Dom & Roland| No Strings Attached|\n",
      "|000Silenced|Necrosadistic War...|Cannibal Corpse|                Kill|\n",
      "|000Silenced|     Dance All Night|   Dom & Roland|          Chronology|\n",
      "|000Silenced|          Late Night|   Dom & Roland|          Chronology|\n",
      "|000Silenced|          Freak Seen|   Dom & Roland|          Chronology|\n",
      "|000Silenced|Paradrenasite (Hi...|   Dom & Roland|          Chronology|\n",
      "|000Silenced|               Rhino|   Dom & Roland|          Chronology|\n",
      "+-----------+--------------------+---------------+--------------------+\n",
      "only showing top 20 rows\n",
      "\n"
     ]
    }
   ],
   "source": [
    "df_listenings = df_listenings.drop('date')\n",
    "df_listenings.show()"
   ]
  },
  {
   "cell_type": "code",
   "execution_count": 7,
   "metadata": {
    "id": "5rDadwmpowII"
   },
   "outputs": [],
   "source": [
    "df_listenings = df_listenings.na.drop()"
   ]
  },
  {
   "cell_type": "code",
   "execution_count": 8,
   "metadata": {
    "colab": {
     "base_uri": "https://localhost:8080/"
    },
    "id": "UZr0ZxOVIYr9",
    "outputId": "70ef2419-47f8-4db1-c3f0-36be0a96780c"
   },
   "outputs": [
    {
     "name": "stdout",
     "output_type": "stream",
     "text": [
      "+-----------+--------------------+---------------+--------------------+\n",
      "|    user_id|               track|         artist|               album|\n",
      "+-----------+--------------------+---------------+--------------------+\n",
      "|000Silenced|           Price Tag|       Jessie J|         Who You Are|\n",
      "|000Silenced|Price Tag (Acoust...|       Jessie J|           Price Tag|\n",
      "|000Silenced|Be Mine! (Ballad ...|          Robyn|            Be Mine!|\n",
      "|000Silenced|            Acapella|          Kelis|            Acapella|\n",
      "|000Silenced|   I'm Not Invisible|      The Tease|   I'm Not Invisible|\n",
      "|000Silenced|Bounce (Feat NORE...|       MSTRKRFT|         Fist of God|\n",
      "|000Silenced|Don't Stop The Mu...|        Rihanna|Addicted 2 Bassli...|\n",
      "|000Silenced|               ObZen|      Meshuggah|               ObZen|\n",
      "|000Silenced|   Yama's Messengers|         Gojira|The Way of All Flesh|\n",
      "|000Silenced|On the Brink of E...|   Napalm Death|Time Waits For No...|\n",
      "|000Silenced|On the Brink of E...|   Napalm Death|Time Waits For No...|\n",
      "|000Silenced|        In Deference|   Napalm Death|      Smear Campaign|\n",
      "|000Silenced|      Post(?)organic|    Decapitated|Organic Hallucinosis|\n",
      "|000Silenced|        Mind Feeders|   Dom & Roland| No Strings Attached|\n",
      "|000Silenced|Necrosadistic War...|Cannibal Corpse|                Kill|\n",
      "|000Silenced|     Dance All Night|   Dom & Roland|          Chronology|\n",
      "|000Silenced|          Late Night|   Dom & Roland|          Chronology|\n",
      "|000Silenced|          Freak Seen|   Dom & Roland|          Chronology|\n",
      "|000Silenced|Paradrenasite (Hi...|   Dom & Roland|          Chronology|\n",
      "|000Silenced|               Rhino|   Dom & Roland|          Chronology|\n",
      "+-----------+--------------------+---------------+--------------------+\n",
      "only showing top 20 rows\n",
      "\n"
     ]
    }
   ],
   "source": [
    "df_listenings.show()"
   ]
  },
  {
   "cell_type": "code",
   "execution_count": 9,
   "metadata": {
    "colab": {
     "base_uri": "https://localhost:8080/"
    },
    "id": "Ld9kP7aIVf2j",
    "outputId": "ad28ac8c-c2e7-42f7-96df-299aa35762e9"
   },
   "outputs": [
    {
     "name": "stdout",
     "output_type": "stream",
     "text": [
      "Rows:  13758905  and Columns:  4\n"
     ]
    }
   ],
   "source": [
    "rows = df_listenings.count()\n",
    "cols = len(df_listenings.columns)\n",
    "print (\"Rows: \",rows, \" and Columns: \", cols)"
   ]
  },
  {
   "cell_type": "markdown",
   "metadata": {
    "id": "cyf1XITGpMWV"
   },
   "source": [
    "\n",
    "# Performing aggregation\n",
    "(Seeing how many times each user has listened to specific track)\n"
   ]
  },
  {
   "cell_type": "code",
   "execution_count": 10,
   "metadata": {
    "colab": {
     "base_uri": "https://localhost:8080/"
    },
    "id": "PeH7vYKEoyWa",
    "outputId": "e442255f-db6a-4d23-a650-a4df39b83721"
   },
   "outputs": [
    {
     "name": "stdout",
     "output_type": "stream",
     "text": [
      "+-------+--------------------+-----+\n",
      "|user_id|               track|count|\n",
      "+-------+--------------------+-----+\n",
      "| --Seph|In the Nothing of...|    2|\n",
      "| --Seph|Chelsea Hotel - L...|    1|\n",
      "| --Seph|        Window Blues|    1|\n",
      "| --Seph|     The Way We Were|    1|\n",
      "| --Seph|Hungarian Rhapsod...|    1|\n",
      "| --Seph|Belina (Original ...|    1|\n",
      "| --Seph|          Paris 2004|    7|\n",
      "| --Seph|              Monday|    1|\n",
      "| --Seph|Vestido Estampado...|    1|\n",
      "| --Seph|   Summa for Strings|    1|\n",
      "| --Seph|      Hour for magic|    2|\n",
      "| --Seph|       Phantom Pt II|    1|\n",
      "| --Seph|       Life On Mars?|    1|\n",
      "| --Seph|Hungarian Dance No 5|    1|\n",
      "| --Seph|         The Embrace|    1|\n",
      "| --Seph|  California Waiting|    1|\n",
      "| --Seph|Airplanes [feat H...|    1|\n",
      "| --Seph|Virus (Luke Fair ...|    1|\n",
      "| --Seph| Air on the G String|    1|\n",
      "| --Seph| White Winter Hymnal|    3|\n",
      "+-------+--------------------+-----+\n",
      "only showing top 20 rows\n",
      "\n"
     ]
    }
   ],
   "source": [
    "df_listenings_agg = df_listenings.select('user_id','track').groupby('user_id',\n",
    "                    'track').agg(count('*').alias('count')).orderBy('user_id')\n",
    "df_listenings_agg.show()"
   ]
  },
  {
   "cell_type": "code",
   "execution_count": 11,
   "metadata": {
    "colab": {
     "base_uri": "https://localhost:8080/"
    },
    "id": "RhVz-SvapIyr",
    "outputId": "83a59d41-2328-449a-925c-c179bedf8ee3"
   },
   "outputs": [
    {
     "name": "stdout",
     "output_type": "stream",
     "text": [
      "Rows:  9930128  and Columns:  3\n"
     ]
    }
   ],
   "source": [
    "rows = df_listenings_agg.count()\n",
    "cols = len(df_listenings_agg.columns)\n",
    "print (\"Rows: \",rows, \" and Columns: \", cols)"
   ]
  },
  {
   "cell_type": "code",
   "execution_count": 12,
   "metadata": {
    "id": "KsTXVsO7I7Jw"
   },
   "outputs": [],
   "source": [
    "df_listenings_agg = df_listenings_agg.limit(20000)"
   ]
  },
  {
   "cell_type": "markdown",
   "metadata": {
    "id": "vuebvg7UqzsO"
   },
   "source": [
    "# Converting the user id and track columns into unique integers\n",
    "\n",
    "\n"
   ]
  },
  {
   "cell_type": "code",
   "execution_count": 13,
   "metadata": {
    "id": "F9RSpj3DN6aX"
   },
   "outputs": [],
   "source": [
    "indexer = [StringIndexer(inputCol=col,outputCol=col+\"_Index\").fit(df_listenings_agg) for col in list(\n",
    "    set(df_listenings_agg.columns)-set('count'))]"
   ]
  },
  {
   "cell_type": "code",
   "execution_count": 14,
   "metadata": {
    "id": "efL-hiR-q-AO"
   },
   "outputs": [],
   "source": [
    "pipeline = Pipeline(stages=indexer)"
   ]
  },
  {
   "cell_type": "code",
   "execution_count": 15,
   "metadata": {
    "id": "OfKtj2ojrKae"
   },
   "outputs": [],
   "source": [
    "data = pipeline.fit(df_listenings_agg).transform(df_listenings_agg)"
   ]
  },
  {
   "cell_type": "code",
   "execution_count": 16,
   "metadata": {
    "colab": {
     "base_uri": "https://localhost:8080/"
    },
    "id": "WvyVopHtaFmb",
    "outputId": "59dffbae-5291-4350-8d09-1fb725a233f7"
   },
   "outputs": [
    {
     "name": "stdout",
     "output_type": "stream",
     "text": [
      "+-------+--------------------+-----+-----------+-------------+-----------+\n",
      "|user_id|               track|count|track_Index|user_id_Index|count_Index|\n",
      "+-------+--------------------+-----+-----------+-------------+-----------+\n",
      "| --Seph| White Winter Hymnal|    3|       59.0|         69.0|        2.0|\n",
      "| --Seph|Virus (Luke Fair ...|    1|    15896.0|         69.0|        0.0|\n",
      "| --Seph|Airplanes [feat H...|    1|      519.0|         69.0|        0.0|\n",
      "| --Seph|Belina (Original ...|    1|     3278.0|         69.0|        0.0|\n",
      "| --Seph|              Monday|    1|      334.0|         69.0|        0.0|\n",
      "| --Seph|Hungarian Dance No 5|    1|     7558.0|         69.0|        0.0|\n",
      "| --Seph|       Life On Mars?|    1|     1161.0|         69.0|        0.0|\n",
      "| --Seph|  California Waiting|    1|      197.0|         69.0|        0.0|\n",
      "| --Seph|       Phantom Pt II|    1|     1377.0|         69.0|        0.0|\n",
      "| --Seph|   Summa for Strings|    1|    13739.0|         69.0|        0.0|\n",
      "| --Seph|      Hour for magic|    2|     7495.0|         69.0|        1.0|\n",
      "| --Seph|Hungarian Rhapsod...|    1|     7559.0|         69.0|        0.0|\n",
      "| --Seph|     The Way We Were|    1|    14960.0|         69.0|        0.0|\n",
      "| --Seph| Air on the G String|    1|     2455.0|         69.0|        0.0|\n",
      "| --Seph|Vestido Estampado...|    1|    15850.0|         69.0|        0.0|\n",
      "| --Seph|        Window Blues|    1|     1840.0|         69.0|        0.0|\n",
      "| --Seph|               Leloo|    1|     9057.0|         69.0|        0.0|\n",
      "| --Seph|         The Embrace|    1|    14387.0|         69.0|        0.0|\n",
      "| --Seph|          Paris 2004|    7|    11313.0|         69.0|        7.0|\n",
      "| --Seph|Chelsea Hotel - L...|    1|     4183.0|         69.0|        0.0|\n",
      "+-------+--------------------+-----+-----------+-------------+-----------+\n",
      "only showing top 20 rows\n",
      "\n"
     ]
    }
   ],
   "source": [
    "data.show()"
   ]
  },
  {
   "cell_type": "markdown",
   "metadata": {
    "id": "IEwviAxXsHwN"
   },
   "source": [
    "# Train and test data"
   ]
  },
  {
   "cell_type": "code",
   "execution_count": 29,
   "metadata": {
    "id": "DRgu2p-PsYUw"
   },
   "outputs": [],
   "source": [
    "# training, testing = data.limit(100).randomSplit([0.7, 0.3])\n",
    "(training, testing) = data.limit(1000).randomSplit([0.7, 0.3])\n"
   ]
  },
  {
   "cell_type": "code",
   "execution_count": 30,
   "metadata": {
    "colab": {
     "base_uri": "https://localhost:8080/"
    },
    "id": "TfaAFXQ4q8cY",
    "outputId": "426f33ce-ef65-45d1-bfe0-20845c59cae4"
   },
   "outputs": [
    {
     "name": "stdout",
     "output_type": "stream",
     "text": [
      "+-------+------------+-----+-----------+-------------+-----------+\n",
      "|user_id|       track|count|track_Index|user_id_Index|count_Index|\n",
      "+-------+------------+-----+-----------+-------------+-----------+\n",
      "| --Seph|        0040|    1|     1924.0|         69.0|        0.0|\n",
      "| --Seph|     401 Lwa|    2|     2076.0|         69.0|        1.0|\n",
      "| --Seph|5 Years Time|    1|     2090.0|         69.0|        0.0|\n",
      "| --Seph|After Nature|    1|      513.0|         69.0|        0.0|\n",
      "| --Seph| Agoraphobia|    1|     2426.0|         69.0|        0.0|\n",
      "+-------+------------+-----+-----------+-------------+-----------+\n",
      "only showing top 5 rows\n",
      "\n"
     ]
    }
   ],
   "source": [
    "training.show(5)"
   ]
  },
  {
   "cell_type": "markdown",
   "metadata": {
    "id": "M46wV6Gusdi5"
   },
   "source": [
    "# Creating the model"
   ]
  },
  {
   "cell_type": "code",
   "execution_count": 31,
   "metadata": {
    "id": "bwPk25M3sfRu"
   },
   "outputs": [],
   "source": [
    "USERID = 'user_id_Index'\n",
    "TRACK = 'track_Index'\n",
    "COUNT = 'count'\n",
    "\n",
    "als= ALS(maxIter=5, regParam=0.01, userCol=USERID, itemCol=TRACK, ratingCol=COUNT)\n",
    "\n"
   ]
  },
  {
   "cell_type": "code",
   "execution_count": 32,
   "metadata": {
    "id": "HB-bWHoJelem"
   },
   "outputs": [],
   "source": [
    "# spark.conf.set(\"spark.sql.execution.arrow.pyspark.enabled\", \"true\")"
   ]
  },
  {
   "cell_type": "code",
   "execution_count": 33,
   "metadata": {
    "id": "N9PhDn2tccxh"
   },
   "outputs": [],
   "source": [
    "# ALS requires that the column IDs be numeric instead of strings\n",
    "model= als.fit(training)"
   ]
  },
  {
   "cell_type": "code",
   "execution_count": 34,
   "metadata": {
    "id": "n0jQqyyabn-d"
   },
   "outputs": [],
   "source": [
    "predictions = model.transform(testing)"
   ]
  },
  {
   "cell_type": "markdown",
   "metadata": {
    "id": "lqBkLowzsoj8"
   },
   "source": [
    "\n",
    "# Generating the top 10 track recommendations for each user"
   ]
  },
  {
   "cell_type": "code",
   "execution_count": 35,
   "metadata": {
    "id": "00mtv7XUsZGg"
   },
   "outputs": [],
   "source": [
    "recs = model.recommendForAllUsers(10)"
   ]
  },
  {
   "cell_type": "code",
   "execution_count": 36,
   "metadata": {
    "colab": {
     "base_uri": "https://localhost:8080/"
    },
    "id": "_EQnSUh3ncar",
    "outputId": "78ae5bc2-a0e4-467d-cca6-640c5e15d02f"
   },
   "outputs": [
    {
     "name": "stdout",
     "output_type": "stream",
     "text": [
      "+-------------+--------------------+\n",
      "|user_id_Index|     recommendations|\n",
      "+-------------+--------------------+\n",
      "|          122|[{235, 16.996416}...|\n",
      "|            1|[{4713, 1.9809115...|\n",
      "|           92|[{16909, 5.295038...|\n",
      "|          107|[{16909, 29.98323...|\n",
      "|           84|[{5937, 8.97173},...|\n",
      "|           69|[{11313, 6.966994...|\n",
      "|           10|[{6972, 1.9843587...|\n",
      "|          110|[{13563, 12.98881...|\n",
      "+-------------+--------------------+\n",
      "\n"
     ]
    }
   ],
   "source": [
    "recs.show()"
   ]
  },
  {
   "cell_type": "code",
   "execution_count": 37,
   "metadata": {
    "colab": {
     "base_uri": "https://localhost:8080/"
    },
    "id": "stUaAoKpTgqT",
    "outputId": "edaf4cc6-a5c0-43e0-b50c-b47dbcf9fa40"
   },
   "outputs": [
    {
     "data": {
      "text/plain": [
       "[Row(user_id_Index=122, recommendations=[Row(track_Index=235, rating=16.996416091918945), Row(track_Index=15793, rating=16.996416091918945), Row(track_Index=12061, rating=16.996416091918945), Row(track_Index=14538, rating=14.996837615966797), Row(track_Index=4995, rating=14.996837615966797), Row(track_Index=8705, rating=14.996837615966797), Row(track_Index=6515, rating=14.996837615966797), Row(track_Index=4220, rating=14.996837615966797), Row(track_Index=12845, rating=14.996837615966797), Row(track_Index=14799, rating=12.997260093688965)])]"
      ]
     },
     "execution_count": 37,
     "metadata": {},
     "output_type": "execute_result"
    }
   ],
   "source": [
    "recs.take(1)"
   ]
  },
  {
   "cell_type": "code",
   "execution_count": null,
   "metadata": {},
   "outputs": [],
   "source": []
  }
 ],
 "metadata": {
  "colab": {
   "provenance": []
  },
  "kernelspec": {
   "display_name": "Python 3 (ipykernel)",
   "language": "python",
   "name": "python3"
  },
  "language_info": {
   "codemirror_mode": {
    "name": "ipython",
    "version": 3
   },
   "file_extension": ".py",
   "mimetype": "text/x-python",
   "name": "python",
   "nbconvert_exporter": "python",
   "pygments_lexer": "ipython3",
   "version": "3.9.7"
  }
 },
 "nbformat": 4,
 "nbformat_minor": 1
}
